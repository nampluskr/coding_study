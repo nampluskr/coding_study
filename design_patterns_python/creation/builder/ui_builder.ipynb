{
 "cells": [
  {
   "cell_type": "markdown",
   "metadata": {},
   "source": [
    "# Builder Pattern"
   ]
  },
  {
   "cell_type": "markdown",
   "metadata": {},
   "source": [
    "## [코드없는 프로그래밍]\n",
    "- 디자인패턴, Builder Pattern, 빌더 패턴"
   ]
  },
  {
   "cell_type": "code",
   "execution_count": 3,
   "metadata": {},
   "outputs": [
    {
     "name": "stdout",
     "output_type": "stream",
     "text": [
      "30 cm, 10 Kg, black\n"
     ]
    }
   ],
   "source": [
    "class Cat:\n",
    "    def __init__(self, height, weight, color):\n",
    "        self.height = height\n",
    "        self.weight = weight\n",
    "        self.color = color\n",
    "    \n",
    "    def print(self):\n",
    "        print(f\"{self.height} cm, {self.weight} Kg, {self.color}\")\n",
    "\n",
    "cat = Cat(30, 10, \"black\")\n",
    "cat.print()"
   ]
  },
  {
   "cell_type": "code",
   "execution_count": 7,
   "metadata": {},
   "outputs": [],
   "source": [
    "from __future__ import annotations\n",
    "\n",
    "class CatBuilder:\n",
    "    def __init__(self):\n",
    "        self.height = None\n",
    "        self.weight = None\n",
    "        self.color = None\n",
    "\n",
    "    def set_height(self, height) -> CatBuilder:\n",
    "        self.height = height\n",
    "        return self\n",
    "    \n",
    "    def set_weight(self, weight) -> CatBuilder:\n",
    "        self.weight = weight\n",
    "        return self\n",
    "    \n",
    "    def set_color(self, color) -> CatBuilder:\n",
    "        self.color = color\n",
    "        return self\n",
    "    \n",
    "    def build(self) -> Cat:\n",
    "        return Cat(self.height, self.weight, self.color)"
   ]
  },
  {
   "cell_type": "code",
   "execution_count": 9,
   "metadata": {},
   "outputs": [
    {
     "name": "stdout",
     "output_type": "stream",
     "text": [
      "30 cm, 10 Kg, black\n"
     ]
    }
   ],
   "source": [
    "cat_builder = CatBuilder()\n",
    "cat_builder.set_height(30)\n",
    "cat_builder.set_weight(10)\n",
    "cat_builder.set_color(\"black\")\n",
    "cat = cat_builder.build()\n",
    "cat.print()"
   ]
  },
  {
   "cell_type": "code",
   "execution_count": 11,
   "metadata": {},
   "outputs": [
    {
     "name": "stdout",
     "output_type": "stream",
     "text": [
      "30 cm, 10 Kg, black\n"
     ]
    }
   ],
   "source": [
    "cat = CatBuilder().set_height(30).set_weight(10).set_color(\"black\").build()\n",
    "cat.print()"
   ]
  },
  {
   "cell_type": "code",
   "execution_count": 13,
   "metadata": {},
   "outputs": [
    {
     "name": "stdout",
     "output_type": "stream",
     "text": [
      "10 cm, 10 Kg, white\n",
      "20 cm, 20 Kg, black\n"
     ]
    }
   ],
   "source": [
    "class WhiteCatBuilder(CatBuilder):\n",
    "    def __init__(self):\n",
    "        super().__init__()\n",
    "        self.color = \"white\"\n",
    "        \n",
    "class BlackCatBuilder(CatBuilder):\n",
    "    def __init__(self):\n",
    "        super().__init__()\n",
    "        self.color = \"black\"\n",
    "        \n",
    "white_cat = WhiteCatBuilder().set_height(10).set_weight(10).build()\n",
    "white_cat.print()\n",
    "\n",
    "black_cat = BlackCatBuilder().set_height(20).set_weight(20).build()\n",
    "black_cat.print()"
   ]
  },
  {
   "cell_type": "code",
   "execution_count": 14,
   "metadata": {},
   "outputs": [
    {
     "name": "stdout",
     "output_type": "stream",
     "text": [
      "100 cm, 100 Kg, black\n"
     ]
    }
   ],
   "source": [
    "#Director is not mandatory\n",
    "class Director:\n",
    "    def set_small_cat(self, builder: CatBuilder):\n",
    "        builder.set_weight(5)\n",
    "        builder.set_height(5)\n",
    "        \n",
    "    def set_big_cat(self, builder: CatBuilder):\n",
    "        builder.set_weight(100)\n",
    "        builder.set_height(100)\n",
    "        \n",
    "director = Director()\n",
    "black_cat_builder = BlackCatBuilder()\n",
    "director.set_big_cat(black_cat_builder)\n",
    "cat = black_cat_builder.build()\n",
    "cat.print()"
   ]
  }
 ],
 "metadata": {
  "kernelspec": {
   "display_name": "Python 3",
   "language": "python",
   "name": "python3"
  },
  "language_info": {
   "codemirror_mode": {
    "name": "ipython",
    "version": 3
   },
   "file_extension": ".py",
   "mimetype": "text/x-python",
   "name": "python",
   "nbconvert_exporter": "python",
   "pygments_lexer": "ipython3",
   "version": "3.10.11"
  }
 },
 "nbformat": 4,
 "nbformat_minor": 2
}
