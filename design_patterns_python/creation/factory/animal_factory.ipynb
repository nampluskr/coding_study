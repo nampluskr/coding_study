{
 "cells": [
  {
   "cell_type": "markdown",
   "metadata": {},
   "source": [
    "# Factory Pattern"
   ]
  },
  {
   "cell_type": "markdown",
   "metadata": {},
   "source": [
    "## [코드없는 프로그래밍]\n",
    "- Design pattern, Factory Pattern, 디자인패턴, 팩토리 패턴"
   ]
  },
  {
   "cell_type": "code",
   "execution_count": 19,
   "metadata": {},
   "outputs": [],
   "source": [
    "from enum import Enum\n",
    "\n",
    "class AnimalType(Enum):\n",
    "    CAT = 1\n",
    "    DOG = 2"
   ]
  },
  {
   "cell_type": "code",
   "execution_count": 20,
   "metadata": {},
   "outputs": [],
   "source": [
    "# Abstract Class\n",
    "class Animal:\n",
    "    def speak(self):\n",
    "        pass\n",
    "\n",
    "class Cat(Animal):\n",
    "    def speak(self):\n",
    "        print(\"[Cat] meow\")\n",
    "\n",
    "class Dog(Animal):\n",
    "    def speak(sefl):\n",
    "        print(\"[Dog] bark\")"
   ]
  },
  {
   "cell_type": "code",
   "execution_count": 21,
   "metadata": {},
   "outputs": [
    {
     "name": "stdout",
     "output_type": "stream",
     "text": [
      "[Cat] meow\n",
      "[Dog] bark\n"
     ]
    }
   ],
   "source": [
    "# Factory function\n",
    "def animal_factory(animal_type: AnimalType) -> Animal:\n",
    "    if animal_type == AnimalType.CAT:\n",
    "        return Cat()\n",
    "    elif animal_type == AnimalType.DOG:\n",
    "        return Dog()\n",
    "    \n",
    "cat = animal_factory(AnimalType.CAT)\n",
    "cat.speak()\n",
    "\n",
    "dog = animal_factory(AnimalType.DOG)\n",
    "dog.speak()"
   ]
  },
  {
   "cell_type": "code",
   "execution_count": 22,
   "metadata": {},
   "outputs": [
    {
     "name": "stdout",
     "output_type": "stream",
     "text": [
      "[Cat] meow\n",
      "[Dog] bark\n"
     ]
    }
   ],
   "source": [
    "# Factory Class\n",
    "class AnimalFactory:\n",
    "    def createAnimal(self, animal_type: AnimalType) -> Animal:\n",
    "        if animal_type == AnimalType.CAT:\n",
    "            return Cat()\n",
    "        elif animal_type == AnimalType.DOG:\n",
    "            return Dog()\n",
    "\n",
    "factory = AnimalFactory()\n",
    "cat = factory.createAnimal(AnimalType.CAT)\n",
    "cat.speak()\n",
    "\n",
    "dog = factory.createAnimal(AnimalType.DOG)\n",
    "dog.speak()"
   ]
  }
 ],
 "metadata": {
  "kernelspec": {
   "display_name": "Python 3",
   "language": "python",
   "name": "python3"
  },
  "language_info": {
   "codemirror_mode": {
    "name": "ipython",
    "version": 3
   },
   "file_extension": ".py",
   "mimetype": "text/x-python",
   "name": "python",
   "nbconvert_exporter": "python",
   "pygments_lexer": "ipython3",
   "version": "3.10.11"
  }
 },
 "nbformat": 4,
 "nbformat_minor": 2
}
