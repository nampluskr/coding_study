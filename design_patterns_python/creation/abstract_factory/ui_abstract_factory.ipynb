{
 "cells": [
  {
   "cell_type": "markdown",
   "metadata": {},
   "source": [
    "# Abstract Factory Pattern"
   ]
  },
  {
   "cell_type": "markdown",
   "metadata": {},
   "source": [
    "## [코드없는 프로그래밍]\n",
    "- 디자인패턴, Abstract Factory Pattern, 추상화 팩토리 패턴"
   ]
  },
  {
   "cell_type": "code",
   "execution_count": 2,
   "metadata": {},
   "outputs": [],
   "source": [
    "#Button abstract(interface) and its implementations\n",
    "class Button:\n",
    "    def click(self):\n",
    "        pass\n",
    "\n",
    "class DarkButton(Button):\n",
    "    def click(self):\n",
    "        print(\"[DarkButton] dark click.\")\n",
    "\n",
    "class LightButton(Button):\n",
    "    def click(self):\n",
    "        print(\"[LightButton] light click.\")"
   ]
  },
  {
   "cell_type": "code",
   "execution_count": 3,
   "metadata": {},
   "outputs": [],
   "source": [
    "#Checkbox abstract(interface) and its implementations\n",
    "class CheckBox:\n",
    "  def check(self):\n",
    "    pass\n",
    "\n",
    "class DarkCheckBox(CheckBox):\n",
    "  def check(self):\n",
    "    print(\"[DarkCheckBox] dark check.\")\n",
    "\n",
    "class LightCheckBox(CheckBox):\n",
    "  def check(self):\n",
    "    print(\"[DarkCheckBox] light check.\")"
   ]
  },
  {
   "cell_type": "code",
   "execution_count": 4,
   "metadata": {},
   "outputs": [],
   "source": [
    "#Scrollbar abstract(interface) and its implementations\n",
    "class ScrollBar:\n",
    "  def scroll(self):\n",
    "    pass\n",
    "\n",
    "class DarkScrollBar(ScrollBar):\n",
    "  def scroll(self):\n",
    "    print(\"[DarkScrollBar] dark scroll\")\n",
    "\n",
    "class LightScrollBar(ScrollBar):\n",
    "  def scroll(self):\n",
    "    print(\"[LightScrollBar] light scroll\")"
   ]
  },
  {
   "cell_type": "code",
   "execution_count": 5,
   "metadata": {},
   "outputs": [],
   "source": [
    "#UIFactory Abstract(interface) and its implementations\n",
    "class UIFactory:\n",
    "    def get_button(self):\n",
    "        pass\n",
    "    def get_checkbox(self):\n",
    "        pass\n",
    "    def get_scrollbar(self):\n",
    "        pass\n",
    "    \n",
    "class DarkUIFactory(UIFactory):\n",
    "    def get_button(self):\n",
    "        return DarkButton()\n",
    "    def get_checkbox(self):\n",
    "        return DarkCheckBox()\n",
    "    def get_scrollbar(self):\n",
    "        return DarkScrollBar()\n",
    "    \n",
    "class LightUIFactory(UIFactory):\n",
    "    def get_button(self):\n",
    "        return LightButton()\n",
    "    def get_checkbox(self):\n",
    "        return LightCheckBox()\n",
    "    def get_scrollbar(self):\n",
    "        return LightScrollBar()"
   ]
  },
  {
   "cell_type": "code",
   "execution_count": 8,
   "metadata": {},
   "outputs": [
    {
     "name": "stdout",
     "output_type": "stream",
     "text": [
      "[DarkButton] dark click.\n",
      "[DarkCheckBox] dark check.\n",
      "[DarkScrollBar] dark scroll\n"
     ]
    }
   ],
   "source": [
    "#get Dark Theme UI components\n",
    "dark_factory = DarkUIFactory()\n",
    "dark_button = dark_factory.get_button()\n",
    "dark_checkbox = dark_factory.get_checkbox()\n",
    "dark_scrollbar = dark_factory.get_scrollbar()\n",
    "\n",
    "dark_button.click()\n",
    "dark_checkbox.check()\n",
    "dark_scrollbar.scroll()"
   ]
  },
  {
   "cell_type": "code",
   "execution_count": 9,
   "metadata": {},
   "outputs": [
    {
     "name": "stdout",
     "output_type": "stream",
     "text": [
      "[LightButton] light click.\n",
      "[DarkCheckBox] light check.\n",
      "[LightScrollBar] light scroll\n"
     ]
    }
   ],
   "source": [
    "#get Light Theme UI components\n",
    "light_factory = LightUIFactory()\n",
    "light_button = light_factory.get_button()\n",
    "light_checkbox = light_factory.get_checkbox()\n",
    "light_scrollbar = light_factory.get_scrollbar()\n",
    "\n",
    "light_button.click()\n",
    "light_checkbox.check()\n",
    "light_scrollbar.scroll()"
   ]
  }
 ],
 "metadata": {
  "kernelspec": {
   "display_name": "Python 3",
   "language": "python",
   "name": "python3"
  },
  "language_info": {
   "codemirror_mode": {
    "name": "ipython",
    "version": 3
   },
   "file_extension": ".py",
   "mimetype": "text/x-python",
   "name": "python",
   "nbconvert_exporter": "python",
   "pygments_lexer": "ipython3",
   "version": "3.10.11"
  }
 },
 "nbformat": 4,
 "nbformat_minor": 2
}
