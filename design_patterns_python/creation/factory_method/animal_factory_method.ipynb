{
 "cells": [
  {
   "cell_type": "markdown",
   "metadata": {},
   "source": [
    "# Factory Method Pattern"
   ]
  },
  {
   "cell_type": "markdown",
   "metadata": {},
   "source": [
    "## [코드없는 프로그래밍]\n",
    "- 디자인패턴, Factory Method Pattern, 팩토리 패턴"
   ]
  },
  {
   "cell_type": "code",
   "execution_count": 1,
   "metadata": {},
   "outputs": [],
   "source": [
    "# Abstract Class\n",
    "class Animal:\n",
    "    def speak(self):\n",
    "        pass\n",
    "\n",
    "class Cat(Animal):\n",
    "    def speak(self):\n",
    "        print(\"[Cat] meow\")\n",
    "\n",
    "class Dog(Animal):\n",
    "    def speak(sefl):\n",
    "        print(\"[Dog] bark\")"
   ]
  },
  {
   "cell_type": "code",
   "execution_count": 2,
   "metadata": {},
   "outputs": [],
   "source": [
    "# Factory Interface\n",
    "class AnimalFactory:\n",
    "    def createAnimal(self) -> Animal:\n",
    "        pass\n",
    "\n",
    "class CatFactory(AnimalFactory):\n",
    "    def __init__(self):\n",
    "        self.cat_cnt = 0\n",
    "    def createAnimal(self) -> Animal:\n",
    "        self.cat_cnt += 1\n",
    "        return Cat()\n",
    "    def cat_count(self) -> int:\n",
    "        return self.cat_cnt\n",
    "    \n",
    "class DogFactory(AnimalFactory):\n",
    "    def has_dog(self):        \n",
    "        self.dog = self.createAnimal()\n",
    "        return self.dog\n",
    "    def createAnimal(self) -> Animal:\n",
    "        return Dog()\n",
    "    def add_wings(self, dog: Dog):\n",
    "        print(\"Dog-wings added.\")\n",
    "        return dog"
   ]
  },
  {
   "cell_type": "code",
   "execution_count": 3,
   "metadata": {},
   "outputs": [
    {
     "name": "stdout",
     "output_type": "stream",
     "text": [
      "Number of cats: 1\n",
      "Number of cats: 2\n"
     ]
    }
   ],
   "source": [
    "cat_factory = CatFactory()\n",
    "cat1 = cat_factory.createAnimal()\n",
    "print(f\"Number of cats: {cat_factory.cat_count()}\")\n",
    "cat2 = cat_factory.createAnimal()\n",
    "print(f\"Number of cats: {cat_factory.cat_count()}\")"
   ]
  },
  {
   "cell_type": "code",
   "execution_count": 4,
   "metadata": {},
   "outputs": [
    {
     "name": "stdout",
     "output_type": "stream",
     "text": [
      "[Dog] bark\n",
      "Dog-wings added.\n",
      "[Dog] bark\n"
     ]
    }
   ],
   "source": [
    "dog_factory = DogFactory()\n",
    "dog = dog_factory.has_dog()\n",
    "dog.speak()\n",
    "dog_wings = dog_factory.add_wings(dog)\n",
    "dog_wings.speak()"
   ]
  }
 ],
 "metadata": {
  "kernelspec": {
   "display_name": "Python 3",
   "language": "python",
   "name": "python3"
  },
  "language_info": {
   "codemirror_mode": {
    "name": "ipython",
    "version": 3
   },
   "file_extension": ".py",
   "mimetype": "text/x-python",
   "name": "python",
   "nbconvert_exporter": "python",
   "pygments_lexer": "ipython3",
   "version": "3.10.11"
  }
 },
 "nbformat": 4,
 "nbformat_minor": 2
}
